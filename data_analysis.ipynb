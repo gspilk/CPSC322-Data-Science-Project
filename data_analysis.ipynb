{
 "cells": [
  {
   "cell_type": "code",
   "execution_count": 5,
   "metadata": {},
   "outputs": [],
   "source": [
    "import importlib\n",
    "import mysklearn.myutils\n",
    "importlib.reload(mysklearn.myutils)\n",
    "import mysklearn.myutils as myutils\n",
    "\n",
    "import mysklearn.mypytable\n",
    "importlib.reload(mysklearn.mypytable)\n",
    "from mysklearn.mypytable import MyPyTable\n",
    "\n",
    "import mysklearn.myclassifiers\n",
    "importlib.reload(mysklearn.myclassifiers)\n",
    "import pandas as pd"
   ]
  },
  {
   "cell_type": "code",
   "execution_count": 11,
   "metadata": {},
   "outputs": [
    {
     "name": "stdout",
     "output_type": "stream",
     "text": [
      "['TEAM', 'CONF', 'G', 'W', 'ADJOE', 'ADJDE', 'BARTHAG', 'EFG_O', 'EFG_D', 'TOR', 'TORD', 'ORB', 'DRB', 'FTR', 'FTRD', '2P_O', '2P_D', '3P_O', '3P_D', 'ADJ_T', 'WAB', 'POSTSEASON', 'SEED', 'YEAR']\n",
      "                TEAM  CONF   G   W  ADJOE  ADJDE  BARTHAG  EFG_O  EFG_D   TOR  \\\n",
      "7               Duke   ACC  39  35  125.2   90.6   0.9764   56.6   46.5  16.3   \n",
      "8           Virginia   ACC  38  35  123.0   89.9   0.9736   55.2   44.7  14.7   \n",
      "9     North Carolina   ACC  39  33  121.0   91.5   0.9615   51.7   48.1  16.2   \n",
      "10         Villanova    BE  40  35  123.1   90.9   0.9703   56.1   46.7  16.3   \n",
      "11         Villanova    BE  40  36  128.4   94.1   0.9725   59.5   48.5  15.0   \n",
      "12       Connecticut  Amer  40  32  112.5   91.3   0.9171   51.5   44.6  17.3   \n",
      "13        Louisville    BE  40  35  115.9   84.5   0.9743   50.6   44.8  18.3   \n",
      "2456          Baylor   B12  24  22  123.2   94.5   0.9548   57.5   49.1  17.6   \n",
      "2803          Kansas   B12  40  34  119.8   91.3   0.9580   53.8   45.8  17.3   \n",
      "3172     Connecticut    BE  39  31  121.5   91.2   0.9643   53.9   44.4  18.9   \n",
      "\n",
      "      ...  FTRD  2P_O  2P_D  3P_O  3P_D  ADJ_T   WAB  POSTSEASON  SEED  YEAR  \n",
      "7     ...  23.9  55.9  46.3  38.7  31.4   66.4  10.7   Champions   1.0  2015  \n",
      "8     ...  26.3  52.5  45.7  39.5  28.9   60.7  11.1   Champions   1.0  2019  \n",
      "9     ...  31.6  51.0  46.3  35.5  33.9   72.8   8.4   Champions   1.0  2017  \n",
      "10    ...  30.0  57.4  44.1  36.2  33.9   66.7   8.9   Champions   2.0  2016  \n",
      "11    ...  26.7  59.0  49.0  40.1  31.7   69.6  10.6   Champions   1.0  2018  \n",
      "12    ...  35.7  48.1  42.2  38.7  33.0   64.8   4.7   Champions   7.0  2014  \n",
      "13    ...  34.9  50.8  43.4  33.3  31.8   67.1   9.0   Champions   1.0  2013  \n",
      "2456  ...  31.7  54.1  48.1  41.8  34.0   68.8   6.6   Champions   1.0  2021  \n",
      "2803  ...  27.7  53.6  46.4  36.1  29.8   69.1  10.4   Champions   1.0  2022  \n",
      "3172  ...  37.8  53.6  44.4  36.3  29.7   66.7   5.0   Champions   4.0  2023  \n",
      "\n",
      "[10 rows x 24 columns]\n"
     ]
    }
   ],
   "source": [
    "df = pd.read_csv(\"data/cbb.csv\")\n",
    "print(df.columns.tolist())\n",
    "\n",
    "filtered_rows = df[df['POSTSEASON'] == 'Champions']\n",
    "print(filtered_rows)\n",
    "\n",
    "\n"
   ]
  }
 ],
 "metadata": {
  "kernelspec": {
   "display_name": "base",
   "language": "python",
   "name": "python3"
  },
  "language_info": {
   "codemirror_mode": {
    "name": "ipython",
    "version": 3
   },
   "file_extension": ".py",
   "mimetype": "text/x-python",
   "name": "python",
   "nbconvert_exporter": "python",
   "pygments_lexer": "ipython3",
   "version": "3.12.4"
  }
 },
 "nbformat": 4,
 "nbformat_minor": 2
}
